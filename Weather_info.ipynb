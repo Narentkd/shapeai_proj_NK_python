{
  "nbformat": 4,
  "nbformat_minor": 0,
  "metadata": {
    "colab": {
      "name": "Weather_info.ipynb",
      "provenance": [],
      "collapsed_sections": []
    },
    "kernelspec": {
      "name": "python3",
      "display_name": "Python 3"
    },
    "language_info": {
      "name": "python"
    }
  },
  "cells": [
    {
      "cell_type": "code",
      "metadata": {
        "colab": {
          "base_uri": "https://localhost:8080/"
        },
        "id": "wBHM26rK9voe",
        "outputId": "d4d1c0f7-d5eb-4515-8af8-e2cfce5fe9b0"
      },
      "source": [
        "import requests\n",
        "\n",
        "from datetime import datetime\n",
        "\n",
        "api_key=\"a66c3d2d543c78290d9f94f01114ce02\"\n",
        "location=input(\"Enter city name:\")\n",
        "\n",
        "api_link_='https://api.openweathermap.org//data//2.5//weather?q='+location+'&appid='+api_key\n",
        "api_link=requests.get(api_link_)\n",
        "api_data=api_link.json()\n",
        "\n",
        "\n",
        "temp_city = ((api_data['main']['temp']) - 273.15)\n",
        "weather_descrip=api_data['weather'][0]['description']\n",
        "humidity=api_data['main']['humidity']\n",
        "wind_speed=api_data['wind']['speed']\n",
        "date_time_=datetime.now().strftime(\"%d %b %Y | %I:%M:%S %p\")\n",
        "\n",
        "print(\"---------------------------------------------------------------------------\")\n",
        "print (\"Weather Stats for - {}  || {}\".format(location.upper(), date_time_))\n",
        "print(\"---------------------------------------------------------------------------\")\n",
        "\n",
        "print(\"Current temperature is{:.2f} deg C\".format(temp_city))\n",
        "print(\"Current weather description:\",weather_descrip)\n",
        "print (\"Current Humidity      :\",humidity, '%')\n",
        "print (\"Current wind speed    :\",wind_speed ,'kmph')\n",
        "\n",
        "Nk =open ('NKJK.txt',\"w\")\n",
        "Nk.write(\"---------------------------------------------------------------------------\"+\"\\n\")\n",
        "Nk.write(\"Weather Stats for - {}  || {}\".format(location.upper(), date_time_) + \"\\n\")\n",
        "Nk.write(\"---------------------------------------------------------------------------\" + \"\\n\")\n",
        "Nk.write(\"Current temperature is{:.2f} deg C\".format(temp_city) + \"\\n\")\n",
        "Nk.write(\"Current weather description: \"+ weather_descrip + \"\\n\")\n",
        "Nk.write(\"Current Humidity      : \"+ str(humidity) + '%' + \"\\n\")\n",
        "Nk.write(\"Current wind speed    : \"+ str(wind_speed) +'kmph' + \"\\n\")\n",
        "Nk.close()"
      ],
      "execution_count": 20,
      "outputs": [
        {
          "output_type": "stream",
          "text": [
            "Enter city name:chennai\n",
            "---------------------------------------------------------------------------\n",
            "Weather Stats for - CHENNAI  || 22 Jun 2021 | 02:24:28 PM\n",
            "---------------------------------------------------------------------------\n",
            "Current temperature is29.42 deg C\n",
            "Current weather description: scattered clouds\n",
            "Current Humidity      : 85 %\n",
            "Current wind speed    : 4.02 kmph\n"
          ],
          "name": "stdout"
        }
      ]
    }
  ]
}